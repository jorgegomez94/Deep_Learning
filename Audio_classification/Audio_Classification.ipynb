{
  "nbformat": 4,
  "nbformat_minor": 0,
  "metadata": {
    "colab": {
      "name": "Practica Audio.ipynb",
      "provenance": [],
      "collapsed_sections": [],
      "toc_visible": true
    },
    "kernelspec": {
      "name": "python3",
      "display_name": "Python 3"
    },
    "language_info": {
      "name": "python"
    }
  },
  "cells": [
    {
      "cell_type": "markdown",
      "metadata": {
        "id": "YmrUKa1KL4PH"
      },
      "source": [
        "# **Audio Classification with Transfer Learning - ADNE**"
      ]
    },
    {
      "cell_type": "markdown",
      "metadata": {
        "id": "jbSmsrSS0FtW"
      },
      "source": [
        "Jorge Gómez Berenguer - Github: jorgegomez94\n",
        "\n",
        "Raúl Gómez Serrano - Github: raulgomez05"
      ]
    },
    {
      "cell_type": "markdown",
      "metadata": {
        "id": "Q9hX0TOqLSH-"
      },
      "source": [
        "En esta práctica se va a realizar la clasificación de diferentes pistas de audio pertenecientes a 10 géneros de música. El dataset utilizado se puede obtener en el siguiente enlace:\n",
        "https://www.kaggle.com/carlthome/gtzan-genre-collection"
      ]
    },
    {
      "cell_type": "markdown",
      "metadata": {
        "id": "sksnfrNqLFv6"
      },
      "source": [
        "Se conecta con el Drive personal donde está subido el dataset"
      ]
    },
    {
      "cell_type": "code",
      "metadata": {
        "colab": {
          "base_uri": "https://localhost:8080/"
        },
        "id": "w60wUDU1MpWx",
        "outputId": "66609972-da2c-49b7-b101-f598e5c24dc6"
      },
      "source": [
        "from google.colab import drive\n",
        "drive.mount('/content/drive')"
      ],
      "execution_count": null,
      "outputs": [
        {
          "output_type": "stream",
          "text": [
            "Drive already mounted at /content/drive; to attempt to forcibly remount, call drive.mount(\"/content/drive\", force_remount=True).\n"
          ],
          "name": "stdout"
        }
      ]
    },
    {
      "cell_type": "markdown",
      "metadata": {
        "id": "rMEh6RjkLGaD"
      },
      "source": [
        "Se importan las librerías necesarias"
      ]
    },
    {
      "cell_type": "code",
      "metadata": {
        "id": "rts-uVNaL3Is"
      },
      "source": [
        "import librosa\n",
        "import pandas as pd\n",
        "import numpy as np\n",
        "import matplotlib.pyplot as plt\n",
        "%matplotlib inline\n",
        "import os\n",
        "from PIL import Image\n",
        "import pathlib\n",
        "import csv\n",
        "\n",
        "from sklearn.model_selection import train_test_split\n",
        "from sklearn.preprocessing import LabelEncoder, StandardScaler\n",
        "\n",
        "import keras\n",
        "\n",
        "import warnings\n",
        "warnings.filterwarnings('ignore')"
      ],
      "execution_count": null,
      "outputs": []
    },
    {
      "cell_type": "markdown",
      "metadata": {
        "id": "l6Lclse51kTh"
      },
      "source": [
        "Librerías pertenecientes al modelo preentrenado de pytorch"
      ]
    },
    {
      "cell_type": "code",
      "metadata": {
        "id": "sF5jvSoV1fv6"
      },
      "source": [
        "!pip install torchaudio"
      ],
      "execution_count": null,
      "outputs": []
    },
    {
      "cell_type": "code",
      "metadata": {
        "id": "0T6fgmzW1e0o"
      },
      "source": [
        "import torch\n",
        "import torchvision\n",
        "import torchaudio\n",
        "import random\n",
        "import librosa.display\n",
        "import torch.nn as nn\n",
        "import torch.nn.functional as F\n",
        "from torchvision.transforms import ToTensor\n",
        "from torchvision.utils import make_grid\n",
        "from torch.utils.data.dataloader import DataLoader\n",
        "from torch.utils.data import random_split\n",
        "\n",
        "from tqdm.autonotebook import tqdm\n",
        "import IPython.display as ipd\n",
        "import torchvision.transforms as T"
      ],
      "execution_count": null,
      "outputs": []
    },
    {
      "cell_type": "markdown",
      "metadata": {
        "id": "4CLgiydRNNKe"
      },
      "source": [
        "## Extracción de Espectogramas para cada Audio"
      ]
    },
    {
      "cell_type": "markdown",
      "metadata": {
        "id": "cnyWPIfMO3Vh"
      },
      "source": [
        "Se establece el color con el que se generarán los espectogramas"
      ]
    },
    {
      "cell_type": "code",
      "metadata": {
        "id": "yK8OpuLsPABF"
      },
      "source": [
        "cmap = plt.get_cmap('inferno')"
      ],
      "execution_count": null,
      "outputs": []
    },
    {
      "cell_type": "markdown",
      "metadata": {
        "id": "P7wiZ4vBPQDN"
      },
      "source": [
        "Se generan los espectogramas"
      ]
    },
    {
      "cell_type": "code",
      "metadata": {
        "colab": {
          "base_uri": "https://localhost:8080/",
          "height": 35
        },
        "id": "bBuE0OCMOzcG",
        "outputId": "22dae806-563d-4693-d8ff-467b2efe6451"
      },
      "source": [
        "plt.figure(figsize=(10,10))\n",
        "genres = 'blues classical country disco hiphop jazz metal pop reggae rock'.split()\n",
        "for g in genres:\n",
        "    pathlib.Path(f'img_data/{g}').mkdir(parents=True, exist_ok=True)     \n",
        "    for filename in os.listdir(f'/content/drive/MyDrive/Colab Notebooks/archive/genres/{g}'):\n",
        "        songname = f'/content/drive/MyDrive/Colab Notebooks/archive/genres/{g}/{filename}'\n",
        "        y, sr = librosa.load(songname, mono=True, duration=5)\n",
        "        plt.specgram(y, NFFT=2048, Fs=2, Fc=0, noverlap=128, cmap=cmap, sides='default', mode='default', scale='dB');\n",
        "        plt.axis('off');\n",
        "        plt.savefig(f'img_data/{g}/{filename[:-3].replace(\".\", \"\")}.png')\n",
        "        plt.clf()"
      ],
      "execution_count": null,
      "outputs": [
        {
          "output_type": "display_data",
          "data": {
            "text/plain": [
              "<Figure size 720x720 with 0 Axes>"
            ]
          },
          "metadata": {
            "tags": []
          }
        }
      ]
    },
    {
      "cell_type": "markdown",
      "metadata": {
        "id": "mP3lJGAkPiX3"
      },
      "source": [
        "## Extracción de Features en base a los Espectogramas"
      ]
    },
    {
      "cell_type": "markdown",
      "metadata": {
        "id": "RWWaefw9QaQo"
      },
      "source": [
        "Las features que se van a extraer son las siguientes:\n",
        "*   **chroma_stft**: Compute a chromagram from a waveform or power spectrogram.\n",
        "*   **chroma_cqt**: Constant-Q chromagram\n",
        "*   **chroma_cens**: Computes the chroma variant “Chroma Energy Normalized” (CENS)\n",
        "*   **melspectogram**: Compute a mel-scaled spectrogram.\n",
        "*   **mfcc**: Mel-frequency cepstral coefficients (MFCCs)\n",
        "*   **rmse**: Compute root-mean-square (RMS) value for each frame, either from the audio samples y or from a spectrogram S.\n",
        "*   **spec_cent**: Compute the spectral centroid.\n",
        "*   **spec_bw**: Compute p’th-order spectral bandwidth.\n",
        "*   **spec_cont**: Compute spectral contrast\n",
        "*   **spec_flat**: Compute spectral flatness\n",
        "*   **spec_rolloff**: Compute roll-off frequency.\n",
        "*   **poly_features**: Get coefficients of fitting an nth-order polynomial to the columns of a spectrogram.\n",
        "*   **tonnetz**: Computes the tonal centroid features (tonnetz)\n",
        "*   **zero-crossing_rate**: Compute the zero-crossing rate of an audio time series."
      ]
    },
    {
      "cell_type": "code",
      "metadata": {
        "id": "ocUk7y5wPi0-"
      },
      "source": [
        "header = 'filename chroma_stft chroma_cqt chroma_cens melspectogram mfcc rmse spec_cent spec_bw spec_cont spec_flat spec_rolloff poly_features tonnetz zcr'\n",
        "for i in range(1, 21):\n",
        "    header += f' mfcc{i}'\n",
        "header += ' label'\n",
        "header = header.split()"
      ],
      "execution_count": null,
      "outputs": []
    },
    {
      "cell_type": "markdown",
      "metadata": {
        "id": "LSq6Zfn6PjEv"
      },
      "source": [
        "## Se escriben los datos a un CSV"
      ]
    },
    {
      "cell_type": "code",
      "metadata": {
        "id": "F4G-2Ug_PjYD"
      },
      "source": [
        "file = open('data.csv', 'w', newline='')\n",
        "with file:\n",
        "    writer = csv.writer(file)\n",
        "    writer.writerow(header)\n",
        "genres = 'blues classical country disco hiphop jazz metal pop reggae rock'.split()\n",
        "\n",
        "for g in genres:\n",
        "    for filename in os.listdir(f'/content/drive/MyDrive/Colab Notebooks/archive/genres/{g}'):\n",
        "\n",
        "        songname = f'/content/drive/MyDrive/Colab Notebooks/archive/genres/{g}/{filename}'\n",
        "        y, sr = librosa.load(songname, mono=True, duration=30)\n",
        "\n",
        "        chroma_stft = librosa.feature.chroma_stft(y=y, sr=sr)\n",
        "        chroma_cqt = librosa.feature.chroma_cqt(y=y, sr=sr)\n",
        "        chroma_cens = librosa.feature.chroma_cens(y=y, sr=sr)\n",
        "\n",
        "        melspectogram = librosa.feature.melspectrogram(y=y, sr=sr)\n",
        "        mfcc = librosa.feature.mfcc(y=y, sr=sr)\n",
        "        rmse = librosa.feature.rms(y=y)\n",
        "\n",
        "        spec_cent = librosa.feature.spectral_centroid(y=y, sr=sr)\n",
        "        spec_bw = librosa.feature.spectral_bandwidth(y=y, sr=sr)\n",
        "        spec_cont = librosa.feature.spectral_contrast(y=y, sr=sr)\n",
        "        spec_flat = librosa.feature.spectral_flatness(y=y)\n",
        "        spec_rolloff = librosa.feature.spectral_rolloff(y=y, sr=sr)\n",
        "\n",
        "        poly_features = librosa.feature.poly_features(y=y, sr=sr)\n",
        "        tonnetz = librosa.feature.tonnetz(y=y, sr=sr)\n",
        "        zcr = librosa.feature.zero_crossing_rate(y)\n",
        "        \n",
        "        to_append = f'{filename} {np.mean(chroma_stft)} {np.mean(chroma_cqt)} {np.mean(chroma_cens)} {np.mean(melspectogram)} {np.mean(mfcc)} {np.mean(rmse)} {np.mean(spec_cent)} {np.mean(spec_bw)} {np.mean(spec_cont)} {np.mean(spec_flat)} {np.mean(spec_rolloff)} {np.mean(poly_features)} {np.mean(tonnetz)} {np.mean(zcr)}'    \n",
        "        for e in mfcc:\n",
        "            to_append += f' {np.mean(e)}'\n",
        "        to_append += f' {g}'\n",
        "        file = open('data.csv', 'a', newline='')\n",
        "        with file:\n",
        "            writer = csv.writer(file)\n",
        "            writer.writerow(to_append.split())"
      ],
      "execution_count": null,
      "outputs": []
    },
    {
      "cell_type": "markdown",
      "metadata": {
        "id": "4X6e9WzxPj2P"
      },
      "source": [
        "## Análisis de los Datos"
      ]
    },
    {
      "cell_type": "code",
      "metadata": {
        "colab": {
          "base_uri": "https://localhost:8080/",
          "height": 222
        },
        "id": "woy0Xs0bPkHC",
        "outputId": "643b4615-c239-4c86-a3ce-499cadfe4877"
      },
      "source": [
        "data = pd.read_csv('data.csv')\n",
        "data.head()"
      ],
      "execution_count": null,
      "outputs": [
        {
          "output_type": "execute_result",
          "data": {
            "text/html": [
              "<div>\n",
              "<style scoped>\n",
              "    .dataframe tbody tr th:only-of-type {\n",
              "        vertical-align: middle;\n",
              "    }\n",
              "\n",
              "    .dataframe tbody tr th {\n",
              "        vertical-align: top;\n",
              "    }\n",
              "\n",
              "    .dataframe thead th {\n",
              "        text-align: right;\n",
              "    }\n",
              "</style>\n",
              "<table border=\"1\" class=\"dataframe\">\n",
              "  <thead>\n",
              "    <tr style=\"text-align: right;\">\n",
              "      <th></th>\n",
              "      <th>filename</th>\n",
              "      <th>chroma_stft</th>\n",
              "      <th>chroma_cqt</th>\n",
              "      <th>chroma_cens</th>\n",
              "      <th>melspectogram</th>\n",
              "      <th>mfcc</th>\n",
              "      <th>rmse</th>\n",
              "      <th>spec_cent</th>\n",
              "      <th>spec_bw</th>\n",
              "      <th>spec_cont</th>\n",
              "      <th>spec_flat</th>\n",
              "      <th>spec_rolloff</th>\n",
              "      <th>poly_features</th>\n",
              "      <th>tonnetz</th>\n",
              "      <th>zcr</th>\n",
              "      <th>mfcc1</th>\n",
              "      <th>mfcc2</th>\n",
              "      <th>mfcc3</th>\n",
              "      <th>mfcc4</th>\n",
              "      <th>mfcc5</th>\n",
              "      <th>mfcc6</th>\n",
              "      <th>mfcc7</th>\n",
              "      <th>mfcc8</th>\n",
              "      <th>mfcc9</th>\n",
              "      <th>mfcc10</th>\n",
              "      <th>mfcc11</th>\n",
              "      <th>mfcc12</th>\n",
              "      <th>mfcc13</th>\n",
              "      <th>mfcc14</th>\n",
              "      <th>mfcc15</th>\n",
              "      <th>mfcc16</th>\n",
              "      <th>mfcc17</th>\n",
              "      <th>mfcc18</th>\n",
              "      <th>mfcc19</th>\n",
              "      <th>mfcc20</th>\n",
              "      <th>label</th>\n",
              "    </tr>\n",
              "  </thead>\n",
              "  <tbody>\n",
              "    <tr>\n",
              "      <th>0</th>\n",
              "      <td>blues.00001.au</td>\n",
              "      <td>0.340983</td>\n",
              "      <td>0.476364</td>\n",
              "      <td>0.260808</td>\n",
              "      <td>2.653045</td>\n",
              "      <td>-0.058071</td>\n",
              "      <td>0.095918</td>\n",
              "      <td>1529.835316</td>\n",
              "      <td>2038.617579</td>\n",
              "      <td>20.676334</td>\n",
              "      <td>0.002294</td>\n",
              "      <td>3548.820207</td>\n",
              "      <td>1.034521</td>\n",
              "      <td>0.029177</td>\n",
              "      <td>0.056044</td>\n",
              "      <td>-207.556793</td>\n",
              "      <td>124.006721</td>\n",
              "      <td>8.930560</td>\n",
              "      <td>35.874687</td>\n",
              "      <td>2.916037</td>\n",
              "      <td>21.523726</td>\n",
              "      <td>-8.554704</td>\n",
              "      <td>23.358671</td>\n",
              "      <td>-10.103617</td>\n",
              "      <td>11.903744</td>\n",
              "      <td>-5.560388</td>\n",
              "      <td>5.376803</td>\n",
              "      <td>-2.239120</td>\n",
              "      <td>4.216963</td>\n",
              "      <td>-6.012273</td>\n",
              "      <td>0.936110</td>\n",
              "      <td>-0.716537</td>\n",
              "      <td>0.293876</td>\n",
              "      <td>-0.287431</td>\n",
              "      <td>0.531573</td>\n",
              "      <td>blues</td>\n",
              "    </tr>\n",
              "    <tr>\n",
              "      <th>1</th>\n",
              "      <td>blues.00002.au</td>\n",
              "      <td>0.363603</td>\n",
              "      <td>0.443113</td>\n",
              "      <td>0.262626</td>\n",
              "      <td>7.256842</td>\n",
              "      <td>1.033480</td>\n",
              "      <td>0.175573</td>\n",
              "      <td>1552.481958</td>\n",
              "      <td>1747.165985</td>\n",
              "      <td>22.197265</td>\n",
              "      <td>0.002628</td>\n",
              "      <td>3040.514948</td>\n",
              "      <td>2.454359</td>\n",
              "      <td>0.024271</td>\n",
              "      <td>0.076301</td>\n",
              "      <td>-90.754387</td>\n",
              "      <td>140.459900</td>\n",
              "      <td>-29.109968</td>\n",
              "      <td>31.689013</td>\n",
              "      <td>-13.987036</td>\n",
              "      <td>25.754759</td>\n",
              "      <td>-13.649585</td>\n",
              "      <td>11.629271</td>\n",
              "      <td>-11.780589</td>\n",
              "      <td>9.706443</td>\n",
              "      <td>-13.123111</td>\n",
              "      <td>5.789265</td>\n",
              "      <td>-8.905224</td>\n",
              "      <td>-1.083720</td>\n",
              "      <td>-9.218359</td>\n",
              "      <td>2.455806</td>\n",
              "      <td>-7.726901</td>\n",
              "      <td>-1.815723</td>\n",
              "      <td>-3.433434</td>\n",
              "      <td>-2.226821</td>\n",
              "      <td>blues</td>\n",
              "    </tr>\n",
              "    <tr>\n",
              "      <th>2</th>\n",
              "      <td>blues.00000.au</td>\n",
              "      <td>0.349943</td>\n",
              "      <td>0.537810</td>\n",
              "      <td>0.272217</td>\n",
              "      <td>4.425312</td>\n",
              "      <td>1.935691</td>\n",
              "      <td>0.130225</td>\n",
              "      <td>1784.420446</td>\n",
              "      <td>2002.650192</td>\n",
              "      <td>20.530733</td>\n",
              "      <td>0.004499</td>\n",
              "      <td>3806.485316</td>\n",
              "      <td>1.751873</td>\n",
              "      <td>0.006478</td>\n",
              "      <td>0.083066</td>\n",
              "      <td>-113.596748</td>\n",
              "      <td>121.557297</td>\n",
              "      <td>-19.158825</td>\n",
              "      <td>42.351032</td>\n",
              "      <td>-6.376458</td>\n",
              "      <td>18.618876</td>\n",
              "      <td>-13.697912</td>\n",
              "      <td>15.344631</td>\n",
              "      <td>-12.285267</td>\n",
              "      <td>10.980492</td>\n",
              "      <td>-8.324325</td>\n",
              "      <td>8.810669</td>\n",
              "      <td>-3.667368</td>\n",
              "      <td>5.751691</td>\n",
              "      <td>-5.162763</td>\n",
              "      <td>0.750948</td>\n",
              "      <td>-1.691938</td>\n",
              "      <td>-0.409953</td>\n",
              "      <td>-2.300209</td>\n",
              "      <td>1.219929</td>\n",
              "      <td>blues</td>\n",
              "    </tr>\n",
              "    <tr>\n",
              "      <th>3</th>\n",
              "      <td>blues.00004.au</td>\n",
              "      <td>0.308590</td>\n",
              "      <td>0.496904</td>\n",
              "      <td>0.259589</td>\n",
              "      <td>2.107707</td>\n",
              "      <td>-8.457871</td>\n",
              "      <td>0.091563</td>\n",
              "      <td>1835.494603</td>\n",
              "      <td>1748.362448</td>\n",
              "      <td>21.467739</td>\n",
              "      <td>0.003239</td>\n",
              "      <td>3580.945013</td>\n",
              "      <td>1.249837</td>\n",
              "      <td>-0.020858</td>\n",
              "      <td>0.101500</td>\n",
              "      <td>-160.266037</td>\n",
              "      <td>126.198799</td>\n",
              "      <td>-35.605450</td>\n",
              "      <td>22.153301</td>\n",
              "      <td>-32.489265</td>\n",
              "      <td>10.864513</td>\n",
              "      <td>-23.357929</td>\n",
              "      <td>0.503118</td>\n",
              "      <td>-11.805833</td>\n",
              "      <td>1.206805</td>\n",
              "      <td>-13.083821</td>\n",
              "      <td>-2.806384</td>\n",
              "      <td>-6.934123</td>\n",
              "      <td>-7.558618</td>\n",
              "      <td>-9.173553</td>\n",
              "      <td>-4.512165</td>\n",
              "      <td>-5.453538</td>\n",
              "      <td>-0.924161</td>\n",
              "      <td>-4.409332</td>\n",
              "      <td>-11.703781</td>\n",
              "      <td>blues</td>\n",
              "    </tr>\n",
              "    <tr>\n",
              "      <th>4</th>\n",
              "      <td>blues.00003.au</td>\n",
              "      <td>0.404779</td>\n",
              "      <td>0.317227</td>\n",
              "      <td>0.226360</td>\n",
              "      <td>6.214398</td>\n",
              "      <td>0.078956</td>\n",
              "      <td>0.141191</td>\n",
              "      <td>1070.119953</td>\n",
              "      <td>1596.333948</td>\n",
              "      <td>21.428764</td>\n",
              "      <td>0.000953</td>\n",
              "      <td>2185.028454</td>\n",
              "      <td>1.244653</td>\n",
              "      <td>0.026556</td>\n",
              "      <td>0.033309</td>\n",
              "      <td>-199.431152</td>\n",
              "      <td>150.099213</td>\n",
              "      <td>5.647593</td>\n",
              "      <td>26.871927</td>\n",
              "      <td>1.754462</td>\n",
              "      <td>14.238345</td>\n",
              "      <td>-4.830883</td>\n",
              "      <td>9.297966</td>\n",
              "      <td>-0.757742</td>\n",
              "      <td>8.149013</td>\n",
              "      <td>-3.196314</td>\n",
              "      <td>6.087677</td>\n",
              "      <td>-2.476421</td>\n",
              "      <td>-1.073890</td>\n",
              "      <td>-2.874778</td>\n",
              "      <td>0.780977</td>\n",
              "      <td>-3.316932</td>\n",
              "      <td>0.637982</td>\n",
              "      <td>-0.619690</td>\n",
              "      <td>-3.408233</td>\n",
              "      <td>blues</td>\n",
              "    </tr>\n",
              "  </tbody>\n",
              "</table>\n",
              "</div>"
            ],
            "text/plain": [
              "         filename  chroma_stft  chroma_cqt  ...    mfcc19     mfcc20  label\n",
              "0  blues.00001.au     0.340983    0.476364  ... -0.287431   0.531573  blues\n",
              "1  blues.00002.au     0.363603    0.443113  ... -3.433434  -2.226821  blues\n",
              "2  blues.00000.au     0.349943    0.537810  ... -2.300209   1.219929  blues\n",
              "3  blues.00004.au     0.308590    0.496904  ... -4.409332 -11.703781  blues\n",
              "4  blues.00003.au     0.404779    0.317227  ... -0.619690  -3.408233  blues\n",
              "\n",
              "[5 rows x 36 columns]"
            ]
          },
          "metadata": {
            "tags": []
          },
          "execution_count": 12
        }
      ]
    },
    {
      "cell_type": "code",
      "metadata": {
        "colab": {
          "base_uri": "https://localhost:8080/"
        },
        "id": "TUFncTOeN8GW",
        "outputId": "ae7fde2a-afcd-4f96-aa4e-428424dc0be7"
      },
      "source": [
        "data.shape"
      ],
      "execution_count": null,
      "outputs": [
        {
          "output_type": "execute_result",
          "data": {
            "text/plain": [
              "(1000, 36)"
            ]
          },
          "metadata": {
            "tags": []
          },
          "execution_count": 13
        }
      ]
    },
    {
      "cell_type": "markdown",
      "metadata": {
        "id": "UdBQ5_p2PkZJ"
      },
      "source": [
        "Eliminamos columnas inncesarias"
      ]
    },
    {
      "cell_type": "code",
      "metadata": {
        "id": "RL7Hg5b3Pkqg"
      },
      "source": [
        "data = data.drop(['filename'],axis=1)"
      ],
      "execution_count": null,
      "outputs": []
    },
    {
      "cell_type": "markdown",
      "metadata": {
        "id": "knVhrsbkOEuC"
      },
      "source": [
        "## Classification con Pytorch - Transfer Learning"
      ]
    },
    {
      "cell_type": "markdown",
      "metadata": {
        "id": "kn_7hAKLOEuG"
      },
      "source": [
        "Generamos un dataset customizado mediante la técnica de Data Augmentation"
      ]
    },
    {
      "cell_type": "code",
      "metadata": {
        "id": "vYPw1kp3OEuH"
      },
      "source": [
        "batch_size = 8\n",
        "image_size = 224\n",
        "train_trms = T.Compose([T.Resize(image_size), T.RandomRotation(20),T.RandomHorizontalFlip(),T.ToTensor()])\n",
        "val_trms = T.Compose([T.Resize(image_size),T.ToTensor()])\n",
        "img_path = '/content/img_data'"
      ],
      "execution_count": null,
      "outputs": []
    },
    {
      "cell_type": "code",
      "metadata": {
        "id": "wZrDN3eZOEuH"
      },
      "source": [
        "train_data = torchvision.datasets.ImageFolder(root = img_path, transform = train_trms)\n",
        "val_data = torchvision.datasets.ImageFolder(root = img_path, transform = val_trms)"
      ],
      "execution_count": null,
      "outputs": []
    },
    {
      "cell_type": "markdown",
      "metadata": {
        "id": "tMC-3KQZOEuI"
      },
      "source": [
        "Se dividen de manera aleatoria los datos en el dataset de training (80%) y el de validación (20%)"
      ]
    },
    {
      "cell_type": "code",
      "metadata": {
        "colab": {
          "base_uri": "https://localhost:8080/"
        },
        "id": "zIlVwBjHOEuI",
        "outputId": "232da866-541d-4bf6-f16e-9648bd45a730"
      },
      "source": [
        "torch.manual_seed(100)\n",
        "val_size = int(len(train_data)*0.2)\n",
        "train_size = len(train_data) - val_size\n",
        "\n",
        "from torch.utils.data import random_split\n",
        "train_ds, val_ds = random_split(train_data, [train_size,val_size])\n",
        "len(train_ds), len(val_ds)"
      ],
      "execution_count": null,
      "outputs": [
        {
          "output_type": "execute_result",
          "data": {
            "text/plain": [
              "(800, 200)"
            ]
          },
          "metadata": {
            "tags": []
          },
          "execution_count": 62
        }
      ]
    },
    {
      "cell_type": "markdown",
      "metadata": {
        "id": "zMwDIpxFOEuI"
      },
      "source": [
        "Aprovechando la ventaja que ofrece Pytorch de paralelizar la computación del algoritmo, se procede a cargar los datos con el objeto DataLoader.\n",
        "\n",
        "Este permite dividir el dataset en un número de batches determinado (8 para nuestro caso) y poder así trabajar en paralelo con ellos"
      ]
    },
    {
      "cell_type": "code",
      "metadata": {
        "id": "_mE0iisoOEuJ"
      },
      "source": [
        "train_dl = DataLoader(train_ds, batch_size, shuffle=True, num_workers=4, pin_memory=True)\n",
        "val_dl = DataLoader(val_ds, batch_size*2, num_workers=4, pin_memory=True)"
      ],
      "execution_count": null,
      "outputs": []
    },
    {
      "cell_type": "markdown",
      "metadata": {
        "id": "-VeGCDn7OEuJ"
      },
      "source": [
        "Se realiza un plot en el que se pueden observar las imágenes de uno de los elementos del DataLoader de training"
      ]
    },
    {
      "cell_type": "code",
      "metadata": {
        "colab": {
          "base_uri": "https://localhost:8080/",
          "height": 161
        },
        "id": "w_cZ-sHVOEuJ",
        "outputId": "895d79d8-cf6e-4ab3-bfea-e75d52dc4254"
      },
      "source": [
        "for images, _ in train_dl:\n",
        "  print('images.shape:', images.shape)\n",
        "  plt.figure(figsize=(16, 8))\n",
        "  plt.axis('off')\n",
        "  plt.imshow(make_grid(images,nrow=16).permute(1, 2, 0))\n",
        "  break\n"
      ],
      "execution_count": null,
      "outputs": [
        {
          "output_type": "stream",
          "text": [
            "images.shape: torch.Size([8, 3, 224, 224])\n"
          ],
          "name": "stdout"
        },
        {
          "output_type": "display_data",
          "data": {
            "image/png": "[encoded data removed]",
            "text/plain": [
              "<Figure size 1152x576 with 1 Axes>"
            ]
          },
          "metadata": {
            "tags": [],
            "needs_background": "light"
          }
        }
      ]
    },
    {
      "cell_type": "markdown",
      "metadata": {
        "id": "WkOtlgsSOEuK"
      },
      "source": [
        "Se define una función que muestre la precisión en las predicciones"
      ]
    },
    {
      "cell_type": "code",
      "metadata": {
        "id": "lwSqojdNOEuK"
      },
      "source": [
        "def accuracy(outputs, labels):\n",
        "  _,preds = torch.max(outputs,dim=1)\n",
        "  return torch.tensor(torch.sum(preds == labels).item()/len(preds))"
      ],
      "execution_count": null,
      "outputs": []
    },
    {
      "cell_type": "markdown",
      "metadata": {
        "id": "9HaFiVdMOEuK"
      },
      "source": [
        "Se define la clase ImageClassificatorBase que contiene métodos que servirán de ayuda para el entrenamiento y validación"
      ]
    },
    {
      "cell_type": "code",
      "metadata": {
        "id": "y9CEVZPOOEuK"
      },
      "source": [
        "class ImageClassificationBase(nn.Module):\n",
        "    def training_step(self, batch):\n",
        "        images, targets = batch \n",
        "        out = self(images)                      \n",
        "        loss = F.cross_entropy(out, targets)      \n",
        "        return loss\n",
        "    \n",
        "    def validation_step(self, batch):\n",
        "        images, targets = batch \n",
        "        out = self(images)                           # Generate predictions\n",
        "        loss = F.cross_entropy(out, targets)  # Calculate loss\n",
        "        score = accuracy(out, targets)\n",
        "        return {'val_loss': loss.detach(), 'val_score': score.detach() }\n",
        "        \n",
        "    def validation_epoch_end(self, outputs):\n",
        "        batch_losses = [x['val_loss'] for x in outputs]\n",
        "        epoch_loss = torch.stack(batch_losses).mean()   # Combine losses\n",
        "        batch_scores = [x['val_score'] for x in outputs]\n",
        "        epoch_score = torch.stack(batch_scores).mean()      # Combine accuracies\n",
        "        return {'val_loss': epoch_loss.item(), 'val_score': epoch_score.item()}\n",
        "    \n",
        "    def epoch_end(self, epoch, result):\n",
        "        print(\"Epoch [{}], val_loss: {:.4f}, val_score: {:.4f}\".format(\n",
        "            epoch, result['val_loss'], result['val_score']))"
      ],
      "execution_count": null,
      "outputs": []
    },
    {
      "cell_type": "markdown",
      "metadata": {
        "id": "HH963DFROEuK"
      },
      "source": [
        "Se importa el modelo de la librería torchvision de Pytorch. \n",
        "\n",
        "Para anlizar el efecto que crea descongelar capas en el modelo, se procede a fitearlo con las capas completamente congeladas y posteriormente descongeladas"
      ]
    },
    {
      "cell_type": "code",
      "metadata": {
        "id": "yYS5fBuHOEuK"
      },
      "source": [
        "import torchvision.models as models\n",
        "class Net(MultilabelImageClassificationBase):\n",
        "    def __init__(self):\n",
        "        super().__init__()\n",
        "        # Use a pretrained model\n",
        "        self.network = models.resnet34(pretrained=True)\n",
        "        # Replace last layer\n",
        "        num_ftrs = self.network.fc.in_features\n",
        "        self.network.fc = nn.Linear(num_ftrs, 10)\n",
        "    \n",
        "    def forward(self, xb):\n",
        "        return self.network(xb)\n",
        "    def freeze(self):\n",
        "      for param in self.network.parameters():\n",
        "        param.require_grad = False\n",
        "      for param in self.network.fc.parameters():\n",
        "        param.require_grad = True\n",
        "    \n",
        "    def unfreeze(self):\n",
        "      for param in self.network.parameters():\n",
        "        param.require_grad = True\n"
      ],
      "execution_count": null,
      "outputs": []
    },
    {
      "cell_type": "markdown",
      "metadata": {
        "id": "uvcgDPUsOEuL"
      },
      "source": [
        "Se definen una serie de cambios en la función que se utilizará para fitear el modelo. Entre ellos: \n",
        "\n",
        "- Scheduler para learning rate que optimice dicho hiperparámetro\n",
        "- Weight decay: técnica de regularización para evitar que los pesos sean demasiado elevados\n",
        "- Gradient clipping: servirá para limitar el valor de los gradientes a un rango menor y así evitar cambios indeseables en parámetros debido a valores en los gradientes muy elevados"
      ]
    },
    {
      "cell_type": "code",
      "metadata": {
        "id": "KztVj90AOEuL"
      },
      "source": [
        "def evaluate(model,val_loader):\n",
        "    outputs = [model.validation_step(batch) for batch in val_loader]\n",
        "    return model.validation_epoch_end(outputs)\n",
        "    \n",
        "def get_lr(optimizer):\n",
        "    for param_group in optimizer.param_groups:\n",
        "        return param_group['lr']\n",
        "\n",
        "def fit_one_cycle(epochs, max_lr, model, train_loader, val_loader, \n",
        "                  weight_decay=0, grad_clip=None, opt_func=torch.optim.SGD):\n",
        "    torch.cuda.empty_cache()\n",
        "    history = []\n",
        "    # Set up cutom optimizer with weight decay\n",
        "    optimizer = opt_func(model.parameters(), max_lr, weight_decay=weight_decay)\n",
        "    # Set up one-cycle learning rate scheduler\n",
        "    sched = torch.optim.lr_scheduler.OneCycleLR(optimizer, max_lr, epochs=epochs, steps_per_epoch=len(train_loader))\n",
        "    for epoch in range(epochs):\n",
        "        # Training Phase \n",
        "        model.train()\n",
        "        lrs = []\n",
        "        for batch in tqdm(train_loader):\n",
        "            loss = model.training_step(batch)\n",
        "            loss.backward()\n",
        "            # Gradient clipping\n",
        "            if grad_clip: \n",
        "                nn.utils.clip_grad_value_(model.parameters(), grad_clip)\n",
        "            optimizer.step()\n",
        "            optimizer.zero_grad()\n",
        "            # Record & update learning rate\n",
        "            lrs.append(get_lr(optimizer))\n",
        "            sched.step()\n",
        "        # Validation phase\n",
        "        result = evaluate(model, val_loader)\n",
        "        result['lrs'] = lrs\n",
        "        model.epoch_end(epoch, result)\n",
        "        history.append(result)\n",
        "    return history"
      ],
      "execution_count": null,
      "outputs": []
    },
    {
      "cell_type": "markdown",
      "metadata": {
        "id": "mitAhEQwOEuL"
      },
      "source": [
        "Se puede analizar la arquitectura del modelo ResNet34"
      ]
    },
    {
      "cell_type": "code",
      "metadata": {
        "colab": {
          "base_uri": "https://localhost:8080/"
        },
        "id": "KzOAfWlnOEuL",
        "outputId": "0b28a9ec-d492-4a1c-967f-861aab6d5c29"
      },
      "source": [
        "model = (Net())\n",
        "model"
      ],
      "execution_count": null,
      "outputs": [
        {
          "output_type": "execute_result",
          "data": {
            "text/plain": [
              "Net(\n",
              "  (network): ResNet(\n",
              "    (conv1): Conv2d(3, 64, kernel_size=(7, 7), stride=(2, 2), padding=(3, 3), bias=False)\n",
              "    (bn1): BatchNorm2d(64, eps=1e-05, momentum=0.1, affine=True, track_running_stats=True)\n",
              "    (relu): ReLU(inplace=True)\n",
              "    (maxpool): MaxPool2d(kernel_size=3, stride=2, padding=1, dilation=1, ceil_mode=False)\n",
              "    (layer1): Sequential(\n",
              "      (0): BasicBlock(\n",
              "        (conv1): Conv2d(64, 64, kernel_size=(3, 3), stride=(1, 1), padding=(1, 1), bias=False)\n",
              "        (bn1): BatchNorm2d(64, eps=1e-05, momentum=0.1, affine=True, track_running_stats=True)\n",
              "        (relu): ReLU(inplace=True)\n",
              "        (conv2): Conv2d(64, 64, kernel_size=(3, 3), stride=(1, 1), padding=(1, 1), bias=False)\n",
              "        (bn2): BatchNorm2d(64, eps=1e-05, momentum=0.1, affine=True, track_running_stats=True)\n",
              "      )\n",
              "      (1): BasicBlock(\n",
              "        (conv1): Conv2d(64, 64, kernel_size=(3, 3), stride=(1, 1), padding=(1, 1), bias=False)\n",
              "        (bn1): BatchNorm2d(64, eps=1e-05, momentum=0.1, affine=True, track_running_stats=True)\n",
              "        (relu): ReLU(inplace=True)\n",
              "        (conv2): Conv2d(64, 64, kernel_size=(3, 3), stride=(1, 1), padding=(1, 1), bias=False)\n",
              "        (bn2): BatchNorm2d(64, eps=1e-05, momentum=0.1, affine=True, track_running_stats=True)\n",
              "      )\n",
              "      (2): BasicBlock(\n",
              "        (conv1): Conv2d(64, 64, kernel_size=(3, 3), stride=(1, 1), padding=(1, 1), bias=False)\n",
              "        (bn1): BatchNorm2d(64, eps=1e-05, momentum=0.1, affine=True, track_running_stats=True)\n",
              "        (relu): ReLU(inplace=True)\n",
              "        (conv2): Conv2d(64, 64, kernel_size=(3, 3), stride=(1, 1), padding=(1, 1), bias=False)\n",
              "        (bn2): BatchNorm2d(64, eps=1e-05, momentum=0.1, affine=True, track_running_stats=True)\n",
              "      )\n",
              "    )\n",
              "    (layer2): Sequential(\n",
              "      (0): BasicBlock(\n",
              "        (conv1): Conv2d(64, 128, kernel_size=(3, 3), stride=(2, 2), padding=(1, 1), bias=False)\n",
              "        (bn1): BatchNorm2d(128, eps=1e-05, momentum=0.1, affine=True, track_running_stats=True)\n",
              "        (relu): ReLU(inplace=True)\n",
              "        (conv2): Conv2d(128, 128, kernel_size=(3, 3), stride=(1, 1), padding=(1, 1), bias=False)\n",
              "        (bn2): BatchNorm2d(128, eps=1e-05, momentum=0.1, affine=True, track_running_stats=True)\n",
              "        (downsample): Sequential(\n",
              "          (0): Conv2d(64, 128, kernel_size=(1, 1), stride=(2, 2), bias=False)\n",
              "          (1): BatchNorm2d(128, eps=1e-05, momentum=0.1, affine=True, track_running_stats=True)\n",
              "        )\n",
              "      )\n",
              "      (1): BasicBlock(\n",
              "        (conv1): Conv2d(128, 128, kernel_size=(3, 3), stride=(1, 1), padding=(1, 1), bias=False)\n",
              "        (bn1): BatchNorm2d(128, eps=1e-05, momentum=0.1, affine=True, track_running_stats=True)\n",
              "        (relu): ReLU(inplace=True)\n",
              "        (conv2): Conv2d(128, 128, kernel_size=(3, 3), stride=(1, 1), padding=(1, 1), bias=False)\n",
              "        (bn2): BatchNorm2d(128, eps=1e-05, momentum=0.1, affine=True, track_running_stats=True)\n",
              "      )\n",
              "      (2): BasicBlock(\n",
              "        (conv1): Conv2d(128, 128, kernel_size=(3, 3), stride=(1, 1), padding=(1, 1), bias=False)\n",
              "        (bn1): BatchNorm2d(128, eps=1e-05, momentum=0.1, affine=True, track_running_stats=True)\n",
              "        (relu): ReLU(inplace=True)\n",
              "        (conv2): Conv2d(128, 128, kernel_size=(3, 3), stride=(1, 1), padding=(1, 1), bias=False)\n",
              "        (bn2): BatchNorm2d(128, eps=1e-05, momentum=0.1, affine=True, track_running_stats=True)\n",
              "      )\n",
              "      (3): BasicBlock(\n",
              "        (conv1): Conv2d(128, 128, kernel_size=(3, 3), stride=(1, 1), padding=(1, 1), bias=False)\n",
              "        (bn1): BatchNorm2d(128, eps=1e-05, momentum=0.1, affine=True, track_running_stats=True)\n",
              "        (relu): ReLU(inplace=True)\n",
              "        (conv2): Conv2d(128, 128, kernel_size=(3, 3), stride=(1, 1), padding=(1, 1), bias=False)\n",
              "        (bn2): BatchNorm2d(128, eps=1e-05, momentum=0.1, affine=True, track_running_stats=True)\n",
              "      )\n",
              "    )\n",
              "    (layer3): Sequential(\n",
              "      (0): BasicBlock(\n",
              "        (conv1): Conv2d(128, 256, kernel_size=(3, 3), stride=(2, 2), padding=(1, 1), bias=False)\n",
              "        (bn1): BatchNorm2d(256, eps=1e-05, momentum=0.1, affine=True, track_running_stats=True)\n",
              "        (relu): ReLU(inplace=True)\n",
              "        (conv2): Conv2d(256, 256, kernel_size=(3, 3), stride=(1, 1), padding=(1, 1), bias=False)\n",
              "        (bn2): BatchNorm2d(256, eps=1e-05, momentum=0.1, affine=True, track_running_stats=True)\n",
              "        (downsample): Sequential(\n",
              "          (0): Conv2d(128, 256, kernel_size=(1, 1), stride=(2, 2), bias=False)\n",
              "          (1): BatchNorm2d(256, eps=1e-05, momentum=0.1, affine=True, track_running_stats=True)\n",
              "        )\n",
              "      )\n",
              "      (1): BasicBlock(\n",
              "        (conv1): Conv2d(256, 256, kernel_size=(3, 3), stride=(1, 1), padding=(1, 1), bias=False)\n",
              "        (bn1): BatchNorm2d(256, eps=1e-05, momentum=0.1, affine=True, track_running_stats=True)\n",
              "        (relu): ReLU(inplace=True)\n",
              "        (conv2): Conv2d(256, 256, kernel_size=(3, 3), stride=(1, 1), padding=(1, 1), bias=False)\n",
              "        (bn2): BatchNorm2d(256, eps=1e-05, momentum=0.1, affine=True, track_running_stats=True)\n",
              "      )\n",
              "      (2): BasicBlock(\n",
              "        (conv1): Conv2d(256, 256, kernel_size=(3, 3), stride=(1, 1), padding=(1, 1), bias=False)\n",
              "        (bn1): BatchNorm2d(256, eps=1e-05, momentum=0.1, affine=True, track_running_stats=True)\n",
              "        (relu): ReLU(inplace=True)\n",
              "        (conv2): Conv2d(256, 256, kernel_size=(3, 3), stride=(1, 1), padding=(1, 1), bias=False)\n",
              "        (bn2): BatchNorm2d(256, eps=1e-05, momentum=0.1, affine=True, track_running_stats=True)\n",
              "      )\n",
              "      (3): BasicBlock(\n",
              "        (conv1): Conv2d(256, 256, kernel_size=(3, 3), stride=(1, 1), padding=(1, 1), bias=False)\n",
              "        (bn1): BatchNorm2d(256, eps=1e-05, momentum=0.1, affine=True, track_running_stats=True)\n",
              "        (relu): ReLU(inplace=True)\n",
              "        (conv2): Conv2d(256, 256, kernel_size=(3, 3), stride=(1, 1), padding=(1, 1), bias=False)\n",
              "        (bn2): BatchNorm2d(256, eps=1e-05, momentum=0.1, affine=True, track_running_stats=True)\n",
              "      )\n",
              "      (4): BasicBlock(\n",
              "        (conv1): Conv2d(256, 256, kernel_size=(3, 3), stride=(1, 1), padding=(1, 1), bias=False)\n",
              "        (bn1): BatchNorm2d(256, eps=1e-05, momentum=0.1, affine=True, track_running_stats=True)\n",
              "        (relu): ReLU(inplace=True)\n",
              "        (conv2): Conv2d(256, 256, kernel_size=(3, 3), stride=(1, 1), padding=(1, 1), bias=False)\n",
              "        (bn2): BatchNorm2d(256, eps=1e-05, momentum=0.1, affine=True, track_running_stats=True)\n",
              "      )\n",
              "      (5): BasicBlock(\n",
              "        (conv1): Conv2d(256, 256, kernel_size=(3, 3), stride=(1, 1), padding=(1, 1), bias=False)\n",
              "        (bn1): BatchNorm2d(256, eps=1e-05, momentum=0.1, affine=True, track_running_stats=True)\n",
              "        (relu): ReLU(inplace=True)\n",
              "        (conv2): Conv2d(256, 256, kernel_size=(3, 3), stride=(1, 1), padding=(1, 1), bias=False)\n",
              "        (bn2): BatchNorm2d(256, eps=1e-05, momentum=0.1, affine=True, track_running_stats=True)\n",
              "      )\n",
              "    )\n",
              "    (layer4): Sequential(\n",
              "      (0): BasicBlock(\n",
              "        (conv1): Conv2d(256, 512, kernel_size=(3, 3), stride=(2, 2), padding=(1, 1), bias=False)\n",
              "        (bn1): BatchNorm2d(512, eps=1e-05, momentum=0.1, affine=True, track_running_stats=True)\n",
              "        (relu): ReLU(inplace=True)\n",
              "        (conv2): Conv2d(512, 512, kernel_size=(3, 3), stride=(1, 1), padding=(1, 1), bias=False)\n",
              "        (bn2): BatchNorm2d(512, eps=1e-05, momentum=0.1, affine=True, track_running_stats=True)\n",
              "        (downsample): Sequential(\n",
              "          (0): Conv2d(256, 512, kernel_size=(1, 1), stride=(2, 2), bias=False)\n",
              "          (1): BatchNorm2d(512, eps=1e-05, momentum=0.1, affine=True, track_running_stats=True)\n",
              "        )\n",
              "      )\n",
              "      (1): BasicBlock(\n",
              "        (conv1): Conv2d(512, 512, kernel_size=(3, 3), stride=(1, 1), padding=(1, 1), bias=False)\n",
              "        (bn1): BatchNorm2d(512, eps=1e-05, momentum=0.1, affine=True, track_running_stats=True)\n",
              "        (relu): ReLU(inplace=True)\n",
              "        (conv2): Conv2d(512, 512, kernel_size=(3, 3), stride=(1, 1), padding=(1, 1), bias=False)\n",
              "        (bn2): BatchNorm2d(512, eps=1e-05, momentum=0.1, affine=True, track_running_stats=True)\n",
              "      )\n",
              "      (2): BasicBlock(\n",
              "        (conv1): Conv2d(512, 512, kernel_size=(3, 3), stride=(1, 1), padding=(1, 1), bias=False)\n",
              "        (bn1): BatchNorm2d(512, eps=1e-05, momentum=0.1, affine=True, track_running_stats=True)\n",
              "        (relu): ReLU(inplace=True)\n",
              "        (conv2): Conv2d(512, 512, kernel_size=(3, 3), stride=(1, 1), padding=(1, 1), bias=False)\n",
              "        (bn2): BatchNorm2d(512, eps=1e-05, momentum=0.1, affine=True, track_running_stats=True)\n",
              "      )\n",
              "    )\n",
              "    (avgpool): AdaptiveAvgPool2d(output_size=(1, 1))\n",
              "    (fc): Linear(in_features=512, out_features=10, bias=True)\n",
              "  )\n",
              ")"
            ]
          },
          "metadata": {
            "tags": []
          },
          "execution_count": 69
        }
      ]
    },
    {
      "cell_type": "markdown",
      "metadata": {
        "id": "OloLj1ZWOEuM"
      },
      "source": [
        "Hiperparámetros que vamos a pasar a la función fit_one_cycle para que el modelo entrene\n",
        "\n",
        "\n",
        "*   Número de épocas\n",
        "*   Máximo learning rate que puede alcanzar el learning rate scheduler (sched)\n",
        "*   Valor del gradient clipping\n",
        "*   Weight decay\n",
        "*   Como optimizador, se utilizará el Adam optimizer\n",
        "\n",
        "\n",
        "\n",
        "\n",
        "\n"
      ]
    },
    {
      "cell_type": "code",
      "metadata": {
        "id": "hcp7TULGOEuM"
      },
      "source": [
        "epochs = 10\n",
        "max_lr = 0.001\n",
        "grad_clip = 0.1\n",
        "weight_decay = 1e-4\n",
        "opt_func = torch.optim.Adam"
      ],
      "execution_count": null,
      "outputs": []
    },
    {
      "cell_type": "markdown",
      "metadata": {
        "id": "2RAx2IFzOEuM"
      },
      "source": [
        "### Model Freeze"
      ]
    },
    {
      "cell_type": "markdown",
      "metadata": {
        "id": "1m_fBqgOOEuM"
      },
      "source": [
        "Como se ha descrito previamente, en esta primera iteración el modelo se ajustará con todas sus capas congeladas"
      ]
    },
    {
      "cell_type": "code",
      "metadata": {
        "id": "RZD6fKvsOEuM"
      },
      "source": [
        "model.freeze()"
      ],
      "execution_count": null,
      "outputs": []
    },
    {
      "cell_type": "code",
      "metadata": {
        "colab": {
          "base_uri": "https://localhost:8080/",
          "height": 692,
          "referenced_widgets": [
            "c2855cb28a87442c985a0665ecfbe41a",
            "d7c943c5354e4b5b947e6b97e5404fce",
            "e21bce63cdb24fcf9c373ce333ee3109",
            "bc4f8b35589a4b51b8c19ed139b9976f",
            "c13ac3bcaf00404a8325179705829a80",
            "a3873398e1ef4a67b221deb4503c1538",
            "a0c0e7b2e202442083ad427410f86b2b",
            "573e4ab55a04430ba1b03334a38115f1",
            "8ef6067151a7487398f771581caf9a99",
            "f763460ef59845b19fae2badeba041c7",
            "00cea69e709549169423b1a90bf66416",
            "b8d3de5bca5744a9b1cf6a03ed0e67da",
            "3de8e559435b4ed4ad990daaafc17340",
            "c7771f3575394d02a92c0ab6e579b398",
            "fd44d43c95ba4515b6c46e68cd109960",
            "d1981e815b8d41f89a53b8c67febdd48",
            "9d6b769dd14d4753b57f559f0f6abc81",
            "3e86ebc36b1340bf8d0e9149a82c1166",
            "68ed1f16bc904b90aa4a4c7a09e0e7ba",
            "b3dd2212afbe49a7be63d61212a341f9",
            "60f98db12af4435287259e216254debe",
            "1f2155ce025544c09a4b8f2c9626dadf",
            "d53dbe5174644c528872d9002303afdb",
            "239af69ea1f443ebab2a6e29694e130b",
            "cbc68b403c9e4f878e967371ae4ea79c",
            "dd840a9fb7294ebb8e2fe261563fc456",
            "e0b7eac78b224e2ea9ef7988eba2635a",
            "1b49ac270ceb4a7484792481ce55eaa4",
            "91587cda3e84405d8270ebeb2a22c3a0",
            "7d1e33f9ef51439dbb9858615e0fb7e3",
            "ae8c2afb2b344387b1feba8faf4a80e5",
            "747adfd4c6fa40b0ab8cd0a5236ae82a",
            "a5d5df2efca244e9943a2a9fb501bbb5",
            "940664d7e7484812affa3d6c3f6655ee",
            "7d4663e4ad694f188263cec1f98aa46b",
            "6331643353a34e86a4ad26ffe7f0e6e7",
            "4f1f79cd30ca4e6dbc475ea5027e950f",
            "c41c44887abd4a12b72d1bc72287c3a7",
            "2dd59371a1af44b9a8ae6b73b3ff5689",
            "1ae5de6a2f584e0e99a7cf8712a3b756",
            "774e0633cf9442f48213769706fb4aec",
            "69baa948296a43f0b83e89cd064891fe",
            "63088433e70b4bd69f1da7870b1902eb",
            "730b16e350644565b9728f482cc71f5d",
            "65170390ca934076a514321a26779351",
            "3405f0f2bb904cd6be99fd1bb4fe4d4b",
            "88fb8c7e10734dd1a5da332b5ca10485",
            "d6e855d9680a40f0830cd3a3927815db",
            "4bc1cbce5b65439095bb82f45cddde10",
            "e077abb2083b46f58ea82a3ede09b778",
            "1efdaa30d6b54f91a67b5d857114bce0",
            "5c85c54ec9f94471978a4c6bcd789501",
            "df69de1a63e14c21b58d457f1a2e0fb7",
            "a32ec2451f83416aa56cb85e7c0b02a4",
            "dc7c034ba7d046acab228a0279d03dcb",
            "dfa633147a4c4b6a8b6100b1ad8055aa",
            "cac04a74f7b94ba6a82dd00ada3505b1",
            "51305fa357304ef0a4d2a5f9e4107c49",
            "13e0f7afca0548f3afa6d00d6c6402b2",
            "576d252c92c34522b4c1c3846a1e53d2",
            "e30d1851690e441ea26722d086c8a254",
            "0e8ed09c1cde4dabbc1c2968a3b6d56a",
            "8c04742066d74b3a935b3c32beb62804",
            "126351817c3e4125a25eb02e86d6b9ce",
            "a8e5a87fa726437ba0d65851ca5178c8",
            "29f19639c1084db48a5ca0055b323d58",
            "1d5fed8e14614d27a6bb625ada3e0cdb",
            "acdf468bf24b48f3b96c83d114b783c3",
            "c23687d3a6ff497bb9ec7e5bc3e5d36a",
            "edb8dc38226b4872bccf04d403f6fc5d",
            "6d5629158f34467397c92ea7ad3116ef",
            "488c4462e50a4ecba2f9369039c09702",
            "41be9df1b27540c1877a13f1a0e24b93",
            "8ae99069136648579da645adb71ca936",
            "24ed8f3076c145fc8913fda30cd3b366",
            "cb8d9faa355e4608a93f9b2b6cf104eb",
            "598c98b084724a7a9a74d1089293dd18",
            "303e7e2ffc5f437b962d5e10315a47a0",
            "2276d0de18144df9880d5b140736a383",
            "6026a882ac024f9e87fe8ed27dda1ba1"
          ]
        },
        "id": "nUoewNO9OEuM",
        "outputId": "011de6aa-cbb4-43bd-f5e7-4e3f026c5860"
      },
      "source": [
        "history += fit_one_cycle(epochs, max_lr, model, train_dl, val_dl, \n",
        "                         grad_clip=grad_clip, \n",
        "                         weight_decay=weight_decay, \n",
        "                         opt_func=opt_func)"
      ],
      "execution_count": null,
      "outputs": [
        {
          "output_type": "display_data",
          "data": {
            "application/vnd.jupyter.widget-view+json": {
              "model_id": "c2855cb28a87442c985a0665ecfbe41a",
              "version_minor": 0,
              "version_major": 2
            },
            "text/plain": [
              "HBox(children=(FloatProgress(value=0.0), HTML(value='')))"
            ]
          },
          "metadata": {
            "tags": []
          }
        },
        {
          "output_type": "stream",
          "text": [
            "\n",
            "Epoch [0], val_loss: 1.6980, val_score: 0.3846\n"
          ],
          "name": "stdout"
        },
        {
          "output_type": "display_data",
          "data": {
            "application/vnd.jupyter.widget-view+json": {
              "model_id": "8ef6067151a7487398f771581caf9a99",
              "version_minor": 0,
              "version_major": 2
            },
            "text/plain": [
              "HBox(children=(FloatProgress(value=0.0), HTML(value='')))"
            ]
          },
          "metadata": {
            "tags": []
          }
        },
        {
          "output_type": "stream",
          "text": [
            "\n",
            "Epoch [1], val_loss: 1.9441, val_score: 0.3269\n"
          ],
          "name": "stdout"
        },
        {
          "output_type": "display_data",
          "data": {
            "application/vnd.jupyter.widget-view+json": {
              "model_id": "9d6b769dd14d4753b57f559f0f6abc81",
              "version_minor": 0,
              "version_major": 2
            },
            "text/plain": [
              "HBox(children=(FloatProgress(value=0.0), HTML(value='')))"
            ]
          },
          "metadata": {
            "tags": []
          }
        },
        {
          "output_type": "stream",
          "text": [
            "\n",
            "Epoch [2], val_loss: 1.6546, val_score: 0.3942\n"
          ],
          "name": "stdout"
        },
        {
          "output_type": "display_data",
          "data": {
            "application/vnd.jupyter.widget-view+json": {
              "model_id": "cbc68b403c9e4f878e967371ae4ea79c",
              "version_minor": 0,
              "version_major": 2
            },
            "text/plain": [
              "HBox(children=(FloatProgress(value=0.0), HTML(value='')))"
            ]
          },
          "metadata": {
            "tags": []
          }
        },
        {
          "output_type": "stream",
          "text": [
            "\n",
            "Epoch [3], val_loss: 1.5848, val_score: 0.4327\n"
          ],
          "name": "stdout"
        },
        {
          "output_type": "display_data",
          "data": {
            "application/vnd.jupyter.widget-view+json": {
              "model_id": "a5d5df2efca244e9943a2a9fb501bbb5",
              "version_minor": 0,
              "version_major": 2
            },
            "text/plain": [
              "HBox(children=(FloatProgress(value=0.0), HTML(value='')))"
            ]
          },
          "metadata": {
            "tags": []
          }
        },
        {
          "output_type": "stream",
          "text": [
            "\n",
            "Epoch [4], val_loss: 1.4842, val_score: 0.4423\n"
          ],
          "name": "stdout"
        },
        {
          "output_type": "display_data",
          "data": {
            "application/vnd.jupyter.widget-view+json": {
              "model_id": "774e0633cf9442f48213769706fb4aec",
              "version_minor": 0,
              "version_major": 2
            },
            "text/plain": [
              "HBox(children=(FloatProgress(value=0.0), HTML(value='')))"
            ]
          },
          "metadata": {
            "tags": []
          }
        },
        {
          "output_type": "stream",
          "text": [
            "\n",
            "Epoch [5], val_loss: 1.3357, val_score: 0.5385\n"
          ],
          "name": "stdout"
        },
        {
          "output_type": "display_data",
          "data": {
            "application/vnd.jupyter.widget-view+json": {
              "model_id": "4bc1cbce5b65439095bb82f45cddde10",
              "version_minor": 0,
              "version_major": 2
            },
            "text/plain": [
              "HBox(children=(FloatProgress(value=0.0), HTML(value='')))"
            ]
          },
          "metadata": {
            "tags": []
          }
        },
        {
          "output_type": "stream",
          "text": [
            "\n",
            "Epoch [6], val_loss: 1.2228, val_score: 0.6058\n"
          ],
          "name": "stdout"
        },
        {
          "output_type": "display_data",
          "data": {
            "application/vnd.jupyter.widget-view+json": {
              "model_id": "cac04a74f7b94ba6a82dd00ada3505b1",
              "version_minor": 0,
              "version_major": 2
            },
            "text/plain": [
              "HBox(children=(FloatProgress(value=0.0), HTML(value='')))"
            ]
          },
          "metadata": {
            "tags": []
          }
        },
        {
          "output_type": "stream",
          "text": [
            "\n",
            "Epoch [7], val_loss: 1.0750, val_score: 0.6154\n"
          ],
          "name": "stdout"
        },
        {
          "output_type": "display_data",
          "data": {
            "application/vnd.jupyter.widget-view+json": {
              "model_id": "a8e5a87fa726437ba0d65851ca5178c8",
              "version_minor": 0,
              "version_major": 2
            },
            "text/plain": [
              "HBox(children=(FloatProgress(value=0.0), HTML(value='')))"
            ]
          },
          "metadata": {
            "tags": []
          }
        },
        {
          "output_type": "stream",
          "text": [
            "\n",
            "Epoch [8], val_loss: 0.9896, val_score: 0.6538\n"
          ],
          "name": "stdout"
        },
        {
          "output_type": "display_data",
          "data": {
            "application/vnd.jupyter.widget-view+json": {
              "model_id": "41be9df1b27540c1877a13f1a0e24b93",
              "version_minor": 0,
              "version_major": 2
            },
            "text/plain": [
              "HBox(children=(FloatProgress(value=0.0), HTML(value='')))"
            ]
          },
          "metadata": {
            "tags": []
          }
        },
        {
          "output_type": "stream",
          "text": [
            "\n",
            "Epoch [9], val_loss: 1.0286, val_score: 0.6538\n"
          ],
          "name": "stdout"
        }
      ]
    },
    {
      "cell_type": "code",
      "metadata": {
        "colab": {
          "base_uri": "https://localhost:8080/"
        },
        "id": "blfBEuzxOEuN",
        "outputId": "eda70cdb-4347-4098-9aa5-48d37c6aaa73"
      },
      "source": [
        "test_loader = DeviceDataLoader(DataLoader(train_ds, batch_size*2), device)\n",
        "result = evaluate(model, test_loader)\n",
        "result"
      ],
      "execution_count": null,
      "outputs": [
        {
          "output_type": "execute_result",
          "data": {
            "text/plain": [
              "{'val_loss': 0.6136257648468018, 'val_score': 0.7962499856948853}"
            ]
          },
          "metadata": {
            "tags": []
          },
          "execution_count": 73
        }
      ]
    },
    {
      "cell_type": "markdown",
      "metadata": {
        "id": "EAbqRqn_OEuO"
      },
      "source": [
        "Plots de accuracy, losses y learning rate a lo largo de las épocas "
      ]
    },
    {
      "cell_type": "code",
      "metadata": {
        "id": "ziUDfSC2OEuO"
      },
      "source": [
        "def plot_accuracies(history):\n",
        "    accuracies = [x['val_score'] for x in history]\n",
        "    plt.plot(accuracies, '-x')\n",
        "    plt.xlabel('epoch')\n",
        "    plt.ylabel('accuracy')\n",
        "    plt.title('Accuracy vs. No. of epochs');\n",
        "\n",
        "def plot_losses(history):\n",
        "    train_losses = [x.get('train_loss') for x in history]\n",
        "    val_losses = [x['val_loss'] for x in history]\n",
        "    plt.plot(train_losses, '-bx')\n",
        "    plt.plot(val_losses, '-rx')\n",
        "    plt.xlabel('epoch')\n",
        "    plt.ylabel('loss')\n",
        "    plt.legend(['Training', 'Validation'])\n",
        "    plt.title('Loss vs. No. of epochs');\n",
        "\n",
        "def plot_lrs(history):\n",
        "    lrs = np.concatenate([x.get('lrs', []) for x in history])\n",
        "    plt.plot(lrs)\n",
        "    plt.xlabel('Batch no.')\n",
        "    plt.ylabel('Learning rate')\n",
        "    plt.title('Learning Rate vs. Batch no.');"
      ],
      "execution_count": null,
      "outputs": []
    },
    {
      "cell_type": "markdown",
      "metadata": {
        "id": "gk11U2jyOEuP"
      },
      "source": [
        "Accuracy"
      ]
    },
    {
      "cell_type": "code",
      "metadata": {
        "colab": {
          "base_uri": "https://localhost:8080/",
          "height": 295
        },
        "id": "ojjh1bFnOEuP",
        "outputId": "9b65d367-e843-41e9-ded8-80f0fb8e1dbb"
      },
      "source": [
        "plot_accuracies(history)"
      ],
      "execution_count": null,
      "outputs": [
        {
          "output_type": "display_data",
          "data": {
            "image/png": "[encoded data removed]",
            "text/plain": [
              "<Figure size 432x288 with 1 Axes>"
            ]
          },
          "metadata": {
            "tags": [],
            "needs_background": "light"
          }
        }
      ]
    },
    {
      "cell_type": "markdown",
      "metadata": {
        "id": "vpMuOGohOEuP"
      },
      "source": [
        "Validation losses"
      ]
    },
    {
      "cell_type": "code",
      "metadata": {
        "colab": {
          "base_uri": "https://localhost:8080/",
          "height": 295
        },
        "id": "XIbeTKKnOEuP",
        "outputId": "6e8136da-7ca3-4bbf-d28f-38a89c9efd8e"
      },
      "source": [
        "plot_losses(history)"
      ],
      "execution_count": null,
      "outputs": [
        {
          "output_type": "display_data",
          "data": {
            "image/png": "[encoded data removed]",
            "text/plain": [
              "<Figure size 432x288 with 1 Axes>"
            ]
          },
          "metadata": {
            "tags": [],
            "needs_background": "light"
          }
        }
      ]
    },
    {
      "cell_type": "markdown",
      "metadata": {
        "id": "HpnxPtGnOEuP"
      },
      "source": [
        "Learning rate"
      ]
    },
    {
      "cell_type": "code",
      "metadata": {
        "colab": {
          "base_uri": "https://localhost:8080/",
          "height": 295
        },
        "id": "C-wv5-k9OEuP",
        "outputId": "943a63bd-60c1-466d-bac2-86e67ad0c9f2"
      },
      "source": [
        "plot_lrs(history)"
      ],
      "execution_count": null,
      "outputs": [
        {
          "output_type": "display_data",
          "data": {
            "image/png": "[encoded data removed]",
            "text/plain": [
              "<Figure size 432x288 with 1 Axes>"
            ]
          },
          "metadata": {
            "tags": [],
            "needs_background": "light"
          }
        }
      ]
    },
    {
      "cell_type": "markdown",
      "metadata": {
        "id": "TqmPNIkqOEuQ"
      },
      "source": [
        "### Model Unfreeze"
      ]
    },
    {
      "cell_type": "markdown",
      "metadata": {
        "id": "D5gRWhj-OEuQ"
      },
      "source": [
        "Se procede a descongelar por completo el modelo, para entrenar todas sus capas"
      ]
    },
    {
      "cell_type": "code",
      "metadata": {
        "id": "1zGVZdThOEuQ"
      },
      "source": [
        "model.unfreeze()"
      ],
      "execution_count": null,
      "outputs": []
    },
    {
      "cell_type": "code",
      "metadata": {
        "colab": {
          "base_uri": "https://localhost:8080/",
          "height": 692,
          "referenced_widgets": [
            "aaf9e8d6122e47518498d3cb0aa1cc86",
            "c680d58658b849b09de02775ef36fa60",
            "bced6676ff4f49abbad76a19ba3bdaea",
            "42aced45e93941f4a8276c5747cb7d4d",
            "0f8058da94a841759e1d57db7d85b8bc",
            "57d0c0c6180743f6b7253f93ca12bf51",
            "4a8c45d8792c45c2b633d96aba48fde8",
            "5421ccfa407b40c88b4ee8b9a3f450c9",
            "6bfb5dac925f47ae8fd3a487dd408bfd",
            "56ec359768184ce0b5b17862862805b9",
            "b875332c4f424882bcb64d7761b87c58",
            "cbaee7c468e641f3b95cdcbf0f9954b7",
            "94cb9ce553c84e54b8d9bc32bd10e615",
            "4b3c869b47d846caa75cbfe3858cba76",
            "ee1f962562974f70a5c2f2d3fb3a2790",
            "209e784b57d24eddb1ed484863ba74f4",
            "621c6d71a6e644498625057fb688bfde",
            "5d0ce64743cf4b45b9519d9dc8054363",
            "056dc0a9027c4932b8b8063466972282",
            "515e40ad18bc40e69b0d6f73d520f85f",
            "8114541b72a44203a4547e3459e9f7f7",
            "1f9432f3c78a4c4eb28d103de1cd837e",
            "201db05135ee4fad8d1d83e395b8e77d",
            "02420e08b8ce456288cca44c308aacb2",
            "0068c343049241f381fba3fe8f34c6f5",
            "df5ca1355ccb44478e6d46cc4313a7a8",
            "436683b7b889439da742410a26639a8b",
            "06e3e29748894af8887d80da0103c16f",
            "073b3f2db10f4c8dbbefcab81b28e792",
            "64fe25096afb4919817cf47a5ef50cc4",
            "ae221f967a6e4d5fbba038d7f4f23ac9",
            "19b8b86e778445379416fc34b04f3ecd",
            "4d6657160d394728b3731387bc2b8e5d",
            "f1861cb3736449128434058c21be1cb6",
            "544e1737d64b4c288f608d13fa0c8f6e",
            "9b4d4031f3224ed5922ef084e46067d8",
            "fc772bd4e7ef4b0da3d8085bee4899ea",
            "8113261d297b4973b5d09e34015b4584",
            "b95bb01589964808aa8ae6ce2f28b24a",
            "1f00d4fad0324e6a90a4b47cea8a5839",
            "3ecf63970ce74ce2bb4f7748851830b9",
            "cbf3d3c8b064450485da0f5c5de73b0d",
            "0d8df0916dd348c8aa796e518f3c3eac",
            "4b75adaa1026459abed70975c7a5b769",
            "6356f5c49dc44f07954c89765704e8a0",
            "ae8c24ecd0c9451181386257572fff6e",
            "00de01d63eee4488b246fe4b96dd47d9",
            "87db5d6b4730474da297f9c1044d9cc0",
            "2b9b528a6f4841499ece7dba58ec0f5e",
            "fe2ec0462cb8418ba349e014b98ec6c6",
            "b6ddccff7bfa4acaba6e4c66ce9170aa",
            "9a9743b1d14c45bda3298e1bb9ca38cb",
            "1ce05bb56ae04721bbdbaee665599f37",
            "e62f6dec8f9a4f9b9ee34337314d467a",
            "b20879fd83684384b80a7303619f55cb",
            "b6bfa6cea8664975bd6cd407b6d33857",
            "f9c88237c4484e6a87d89f38bf8a8be9",
            "9a7f7976c5cc49d09a5a10f4cd1ff29a",
            "072d448fe7764991b245a1e6656e8b59",
            "d77d90c8264f4c3280bed3d885684273",
            "ca0bafdf3f81432187e3bf2c7c648227",
            "6215a8da343243af98cdb15531b3c586",
            "4a87fcf8e0674eea8e66f845547881dc",
            "ec6c08ff299d42d6a123c3c9491c5d83",
            "70c5ea7a7b0640c9ab55e3ecd833317c",
            "b35c960607fe48b7ad095ab59ec9254a",
            "d37d8d565eb643e292ac2a237f7b4a69",
            "3cb16f54dbf5444a99503a8526279469",
            "44eec28f81b24ce4b79bc7aa27991574",
            "6b4b981cffa048debff4d98f5dd01396",
            "58b9188d922546a2b850fedd8762cab4",
            "e544601a6ba34a3da6be32d5c5066899",
            "5b148d467ecf4f88adaabf606fc39a42",
            "3334bcb2cd45416c920574fa2495b38e",
            "88c3398f5cb64de98edafa336f39a8b1",
            "7a76c3e80b8f459f9a7028e7a3af3e8e",
            "107c6d80892e420a883b0ffd5301752e",
            "fe8256ea24e84229abbf956420dc33a0",
            "5f724094f92b4781913f7305459efc91",
            "e3aa7254de254a80851dea7c9209d4ff"
          ]
        },
        "id": "6I9MIi-zOEuQ",
        "outputId": "b318ec7d-7861-4ba2-a031-35f3e2b0a2dc"
      },
      "source": [
        "history += fit_one_cycle(epochs, max_lr, model, train_dl, val_dl, \n",
        "                         grad_clip=grad_clip, \n",
        "                         weight_decay=weight_decay, \n",
        "                         opt_func=opt_func)"
      ],
      "execution_count": null,
      "outputs": [
        {
          "output_type": "display_data",
          "data": {
            "application/vnd.jupyter.widget-view+json": {
              "model_id": "aaf9e8d6122e47518498d3cb0aa1cc86",
              "version_minor": 0,
              "version_major": 2
            },
            "text/plain": [
              "HBox(children=(FloatProgress(value=0.0), HTML(value='')))"
            ]
          },
          "metadata": {
            "tags": []
          }
        },
        {
          "output_type": "stream",
          "text": [
            "\n",
            "Epoch [0], val_loss: 1.0863, val_score: 0.6346\n"
          ],
          "name": "stdout"
        },
        {
          "output_type": "display_data",
          "data": {
            "application/vnd.jupyter.widget-view+json": {
              "model_id": "6bfb5dac925f47ae8fd3a487dd408bfd",
              "version_minor": 0,
              "version_major": 2
            },
            "text/plain": [
              "HBox(children=(FloatProgress(value=0.0), HTML(value='')))"
            ]
          },
          "metadata": {
            "tags": []
          }
        },
        {
          "output_type": "stream",
          "text": [
            "\n",
            "Epoch [1], val_loss: 1.5852, val_score: 0.4038\n"
          ],
          "name": "stdout"
        },
        {
          "output_type": "display_data",
          "data": {
            "application/vnd.jupyter.widget-view+json": {
              "model_id": "621c6d71a6e644498625057fb688bfde",
              "version_minor": 0,
              "version_major": 2
            },
            "text/plain": [
              "HBox(children=(FloatProgress(value=0.0), HTML(value='')))"
            ]
          },
          "metadata": {
            "tags": []
          }
        },
        {
          "output_type": "stream",
          "text": [
            "\n",
            "Epoch [2], val_loss: 1.4125, val_score: 0.4808\n"
          ],
          "name": "stdout"
        },
        {
          "output_type": "display_data",
          "data": {
            "application/vnd.jupyter.widget-view+json": {
              "model_id": "0068c343049241f381fba3fe8f34c6f5",
              "version_minor": 0,
              "version_major": 2
            },
            "text/plain": [
              "HBox(children=(FloatProgress(value=0.0), HTML(value='')))"
            ]
          },
          "metadata": {
            "tags": []
          }
        },
        {
          "output_type": "stream",
          "text": [
            "\n",
            "Epoch [3], val_loss: 1.1997, val_score: 0.5865\n"
          ],
          "name": "stdout"
        },
        {
          "output_type": "display_data",
          "data": {
            "application/vnd.jupyter.widget-view+json": {
              "model_id": "4d6657160d394728b3731387bc2b8e5d",
              "version_minor": 0,
              "version_major": 2
            },
            "text/plain": [
              "HBox(children=(FloatProgress(value=0.0), HTML(value='')))"
            ]
          },
          "metadata": {
            "tags": []
          }
        },
        {
          "output_type": "stream",
          "text": [
            "\n",
            "Epoch [4], val_loss: 1.1945, val_score: 0.5913\n"
          ],
          "name": "stdout"
        },
        {
          "output_type": "display_data",
          "data": {
            "application/vnd.jupyter.widget-view+json": {
              "model_id": "3ecf63970ce74ce2bb4f7748851830b9",
              "version_minor": 0,
              "version_major": 2
            },
            "text/plain": [
              "HBox(children=(FloatProgress(value=0.0), HTML(value='')))"
            ]
          },
          "metadata": {
            "tags": []
          }
        },
        {
          "output_type": "stream",
          "text": [
            "\n",
            "Epoch [5], val_loss: 1.2004, val_score: 0.5769\n"
          ],
          "name": "stdout"
        },
        {
          "output_type": "display_data",
          "data": {
            "application/vnd.jupyter.widget-view+json": {
              "model_id": "2b9b528a6f4841499ece7dba58ec0f5e",
              "version_minor": 0,
              "version_major": 2
            },
            "text/plain": [
              "HBox(children=(FloatProgress(value=0.0), HTML(value='')))"
            ]
          },
          "metadata": {
            "tags": []
          }
        },
        {
          "output_type": "stream",
          "text": [
            "\n",
            "Epoch [6], val_loss: 1.1383, val_score: 0.5913\n"
          ],
          "name": "stdout"
        },
        {
          "output_type": "display_data",
          "data": {
            "application/vnd.jupyter.widget-view+json": {
              "model_id": "f9c88237c4484e6a87d89f38bf8a8be9",
              "version_minor": 0,
              "version_major": 2
            },
            "text/plain": [
              "HBox(children=(FloatProgress(value=0.0), HTML(value='')))"
            ]
          },
          "metadata": {
            "tags": []
          }
        },
        {
          "output_type": "stream",
          "text": [
            "\n",
            "Epoch [7], val_loss: 1.0799, val_score: 0.6442\n"
          ],
          "name": "stdout"
        },
        {
          "output_type": "display_data",
          "data": {
            "application/vnd.jupyter.widget-view+json": {
              "model_id": "70c5ea7a7b0640c9ab55e3ecd833317c",
              "version_minor": 0,
              "version_major": 2
            },
            "text/plain": [
              "HBox(children=(FloatProgress(value=0.0), HTML(value='')))"
            ]
          },
          "metadata": {
            "tags": []
          }
        },
        {
          "output_type": "stream",
          "text": [
            "\n",
            "Epoch [8], val_loss: 0.9449, val_score: 0.6779\n"
          ],
          "name": "stdout"
        },
        {
          "output_type": "display_data",
          "data": {
            "application/vnd.jupyter.widget-view+json": {
              "model_id": "5b148d467ecf4f88adaabf606fc39a42",
              "version_minor": 0,
              "version_major": 2
            },
            "text/plain": [
              "HBox(children=(FloatProgress(value=0.0), HTML(value='')))"
            ]
          },
          "metadata": {
            "tags": []
          }
        },
        {
          "output_type": "stream",
          "text": [
            "\n",
            "Epoch [9], val_loss: 0.9128, val_score: 0.6875\n"
          ],
          "name": "stdout"
        }
      ]
    },
    {
      "cell_type": "code",
      "metadata": {
        "colab": {
          "base_uri": "https://localhost:8080/"
        },
        "id": "jP63LMGuOEuQ",
        "outputId": "d97140a7-775c-4c7a-e05c-bc5b4fcad467"
      },
      "source": [
        "test_loader = DeviceDataLoader(DataLoader(train_ds, batch_size*2), device)\n",
        "result = evaluate(model, test_loader)\n",
        "result"
      ],
      "execution_count": null,
      "outputs": [
        {
          "output_type": "execute_result",
          "data": {
            "text/plain": [
              "{'val_loss': 0.4072801172733307, 'val_score': 0.8700000047683716}"
            ]
          },
          "metadata": {
            "tags": []
          },
          "execution_count": 81
        }
      ]
    },
    {
      "cell_type": "code",
      "metadata": {
        "colab": {
          "base_uri": "https://localhost:8080/",
          "height": 295
        },
        "id": "zksJtVi1OEuR",
        "outputId": "01e5cafa-6ce3-44eb-cbc9-2968dd09249d"
      },
      "source": [
        "plot_accuracies(history)"
      ],
      "execution_count": null,
      "outputs": [
        {
          "output_type": "display_data",
          "data": {
            "image/png": "[encoded data removed]",
            "text/plain": [
              "<Figure size 432x288 with 1 Axes>"
            ]
          },
          "metadata": {
            "tags": [],
            "needs_background": "light"
          }
        }
      ]
    },
    {
      "cell_type": "code",
      "metadata": {
        "colab": {
          "base_uri": "https://localhost:8080/",
          "height": 295
        },
        "id": "m_E3_lyqOEuR",
        "outputId": "fec41661-170f-404d-b2bd-e27df7fd378b"
      },
      "source": [
        "plot_losses(history)"
      ],
      "execution_count": null,
      "outputs": [
        {
          "output_type": "display_data",
          "data": {
            "image/png": "[encoded data removed]",
            "text/plain": [
              "<Figure size 432x288 with 1 Axes>"
            ]
          },
          "metadata": {
            "tags": [],
            "needs_background": "light"
          }
        }
      ]
    },
    {
      "cell_type": "code",
      "metadata": {
        "colab": {
          "base_uri": "https://localhost:8080/",
          "height": 295
        },
        "id": "8j8mbRHCOEuR",
        "outputId": "240ce015-9bab-4e5b-b243-7a8edcfd6298"
      },
      "source": [
        "plot_lrs(history)"
      ],
      "execution_count": null,
      "outputs": [
        {
          "output_type": "display_data",
          "data": {
            "image/png": "[encoded data removed]",
            "text/plain": [
              "<Figure size 432x288 with 1 Axes>"
            ]
          },
          "metadata": {
            "tags": [],
            "needs_background": "light"
          }
        }
      ]
    }
  ]
}